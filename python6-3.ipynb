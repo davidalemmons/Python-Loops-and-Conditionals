{
 "cells": [
  {
   "cell_type": "code",
   "execution_count": 5,
   "id": "83bf924c-6d75-421c-addb-18dee4b4abfc",
   "metadata": {},
   "outputs": [
    {
     "name": "stdout",
     "output_type": "stream",
     "text": [
      "Too Low\n",
      "Too Low\n",
      "Too Low\n",
      "Too Low\n",
      "Too Low\n",
      "Found it! The correct number was :  5\n"
     ]
    }
   ],
   "source": [
    "guess_me = 5\n",
    "\n",
    "for number in range(10):\n",
    "    if number > guess_me:\n",
    "        print(\"Oops!\")\n",
    "    elif number < guess_me:\n",
    "        print(\"Too Low\")\n",
    "    else:\n",
    "        print(\"Found it! The correct number was : \",number)\n",
    "        break"
   ]
  }
 ],
 "metadata": {
  "kernelspec": {
   "display_name": "Python 3 (ipykernel)",
   "language": "python",
   "name": "python3"
  },
  "language_info": {
   "codemirror_mode": {
    "name": "ipython",
    "version": 3
   },
   "file_extension": ".py",
   "mimetype": "text/x-python",
   "name": "python",
   "nbconvert_exporter": "python",
   "pygments_lexer": "ipython3",
   "version": "3.12.4"
  }
 },
 "nbformat": 4,
 "nbformat_minor": 5
}
